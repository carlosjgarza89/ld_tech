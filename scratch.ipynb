{
 "cells": [
  {
   "cell_type": "markdown",
   "id": "07b11332",
   "metadata": {},
   "source": [
    "# Scratch Notebook\n",
    "This notebook is used exclusively for scratch work that may or may not be implemented in the master notebook.\n",
    "I included it in my final product to display some experimental thought processes that I felt didnt belong in the master work."
   ]
  },
  {
   "cell_type": "code",
   "execution_count": 1,
   "id": "c35604c3",
   "metadata": {},
   "outputs": [],
   "source": [
    "# import packages\n",
    "import numpy as np\n",
    "import pandas as pd\n",
    "import matplotlib.pyplot as plt"
   ]
  },
  {
   "cell_type": "code",
   "execution_count": 2,
   "id": "8b6f3a88",
   "metadata": {},
   "outputs": [
    {
     "data": {
      "text/html": [
       "<div>\n",
       "<style scoped>\n",
       "    .dataframe tbody tr th:only-of-type {\n",
       "        vertical-align: middle;\n",
       "    }\n",
       "\n",
       "    .dataframe tbody tr th {\n",
       "        vertical-align: top;\n",
       "    }\n",
       "\n",
       "    .dataframe thead th {\n",
       "        text-align: right;\n",
       "    }\n",
       "</style>\n",
       "<table border=\"1\" class=\"dataframe\">\n",
       "  <thead>\n",
       "    <tr style=\"text-align: right;\">\n",
       "      <th></th>\n",
       "      <th>Slot.ID</th>\n",
       "      <th>Placement</th>\n",
       "      <th>Ad.Slot.Page.Layout</th>\n",
       "      <th>Creative.ID</th>\n",
       "      <th>Content.Type</th>\n",
       "      <th>Content.Has.Play.Button</th>\n",
       "      <th>Date</th>\n",
       "      <th>Device</th>\n",
       "      <th>Size</th>\n",
       "      <th>Publisher.Split</th>\n",
       "      <th>Impressions</th>\n",
       "      <th>Referrals</th>\n",
       "      <th>Conversions</th>\n",
       "    </tr>\n",
       "  </thead>\n",
       "  <tbody>\n",
       "    <tr>\n",
       "      <th>0</th>\n",
       "      <td>1</td>\n",
       "      <td>NaN</td>\n",
       "      <td>NaN</td>\n",
       "      <td>1</td>\n",
       "      <td>advertorial</td>\n",
       "      <td>yes</td>\n",
       "      <td>12/01/2020</td>\n",
       "      <td>Other</td>\n",
       "      <td>Unknown</td>\n",
       "      <td>0.00</td>\n",
       "      <td>0</td>\n",
       "      <td>0</td>\n",
       "      <td>0</td>\n",
       "    </tr>\n",
       "    <tr>\n",
       "      <th>1</th>\n",
       "      <td>2</td>\n",
       "      <td>external_in_content</td>\n",
       "      <td>full_article</td>\n",
       "      <td>1</td>\n",
       "      <td>advertorial</td>\n",
       "      <td>yes</td>\n",
       "      <td>12/01/2020</td>\n",
       "      <td>Mobile</td>\n",
       "      <td>Responsive</td>\n",
       "      <td>0.02</td>\n",
       "      <td>10</td>\n",
       "      <td>0</td>\n",
       "      <td>0</td>\n",
       "    </tr>\n",
       "    <tr>\n",
       "      <th>2</th>\n",
       "      <td>3</td>\n",
       "      <td>external_above_content</td>\n",
       "      <td>full_article</td>\n",
       "      <td>1</td>\n",
       "      <td>advertorial</td>\n",
       "      <td>yes</td>\n",
       "      <td>12/01/2020</td>\n",
       "      <td>Mobile</td>\n",
       "      <td>Responsive</td>\n",
       "      <td>0.32</td>\n",
       "      <td>94</td>\n",
       "      <td>0</td>\n",
       "      <td>0</td>\n",
       "    </tr>\n",
       "    <tr>\n",
       "      <th>3</th>\n",
       "      <td>4</td>\n",
       "      <td>external_below_content</td>\n",
       "      <td>full_article</td>\n",
       "      <td>1</td>\n",
       "      <td>advertorial</td>\n",
       "      <td>yes</td>\n",
       "      <td>12/01/2020</td>\n",
       "      <td>Mobile</td>\n",
       "      <td>Responsive</td>\n",
       "      <td>0.00</td>\n",
       "      <td>54</td>\n",
       "      <td>0</td>\n",
       "      <td>0</td>\n",
       "    </tr>\n",
       "    <tr>\n",
       "      <th>4</th>\n",
       "      <td>5</td>\n",
       "      <td>external_below_content</td>\n",
       "      <td>full_article</td>\n",
       "      <td>1</td>\n",
       "      <td>advertorial</td>\n",
       "      <td>yes</td>\n",
       "      <td>12/01/2020</td>\n",
       "      <td>Mobile</td>\n",
       "      <td>Responsive</td>\n",
       "      <td>0.03</td>\n",
       "      <td>21</td>\n",
       "      <td>1</td>\n",
       "      <td>0</td>\n",
       "    </tr>\n",
       "  </tbody>\n",
       "</table>\n",
       "</div>"
      ],
      "text/plain": [
       "   Slot.ID               Placement Ad.Slot.Page.Layout  Creative.ID  \\\n",
       "0        1                     NaN                 NaN            1   \n",
       "1        2     external_in_content        full_article            1   \n",
       "2        3  external_above_content        full_article            1   \n",
       "3        4  external_below_content        full_article            1   \n",
       "4        5  external_below_content        full_article            1   \n",
       "\n",
       "  Content.Type Content.Has.Play.Button        Date  Device        Size  \\\n",
       "0  advertorial                     yes  12/01/2020   Other     Unknown   \n",
       "1  advertorial                     yes  12/01/2020  Mobile  Responsive   \n",
       "2  advertorial                     yes  12/01/2020  Mobile  Responsive   \n",
       "3  advertorial                     yes  12/01/2020  Mobile  Responsive   \n",
       "4  advertorial                     yes  12/01/2020  Mobile  Responsive   \n",
       "\n",
       "   Publisher.Split  Impressions  Referrals  Conversions  \n",
       "0             0.00            0          0            0  \n",
       "1             0.02           10          0            0  \n",
       "2             0.32           94          0            0  \n",
       "3             0.00           54          0            0  \n",
       "4             0.03           21          1            0  "
      ]
     },
     "execution_count": 2,
     "metadata": {},
     "output_type": "execute_result"
    }
   ],
   "source": [
    "# visualize data\n",
    "df = pd.read_csv(\"data/project_data.csv\")\n",
    "df.head()"
   ]
  },
  {
   "cell_type": "code",
   "execution_count": 3,
   "id": "35c97963",
   "metadata": {},
   "outputs": [
    {
     "data": {
      "text/plain": [
       "Slot.ID                        0\n",
       "Placement                  12326\n",
       "Ad.Slot.Page.Layout        12330\n",
       "Creative.ID                    0\n",
       "Content.Type                   0\n",
       "Content.Has.Play.Button        0\n",
       "Date                           0\n",
       "Device                         0\n",
       "Size                           0\n",
       "Publisher.Split                0\n",
       "Impressions                    0\n",
       "Referrals                      0\n",
       "Conversions                    0\n",
       "dtype: int64"
      ]
     },
     "execution_count": 3,
     "metadata": {},
     "output_type": "execute_result"
    }
   ],
   "source": [
    "# Missing Value Count\n",
    "df.isna().sum()"
   ]
  },
  {
   "cell_type": "code",
   "execution_count": 4,
   "id": "45e956c2",
   "metadata": {},
   "outputs": [
    {
     "data": {
      "text/plain": [
       "0.22474302970232762"
      ]
     },
     "execution_count": 4,
     "metadata": {},
     "output_type": "execute_result"
    }
   ],
   "source": [
    "# Percent of values missing\n",
    "(12326/len(df))*100 #%"
   ]
  },
  {
   "cell_type": "code",
   "execution_count": 5,
   "id": "56e80e11",
   "metadata": {},
   "outputs": [
    {
     "data": {
      "text/plain": [
       "0.0"
      ]
     },
     "execution_count": 5,
     "metadata": {},
     "output_type": "execute_result"
    }
   ],
   "source": [
    "# Do all rows with missing columns have 0.0 publisher split?\n",
    "df[df['Ad.Slot.Page.Layout'].isna()]['Publisher.Split'].sum()"
   ]
  },
  {
   "cell_type": "code",
   "execution_count": 6,
   "id": "b8f9a914",
   "metadata": {},
   "outputs": [
    {
     "name": "stdout",
     "output_type": "stream",
     "text": [
      "<class 'pandas.core.frame.DataFrame'>\n",
      "RangeIndex: 5484486 entries, 0 to 5484485\n",
      "Data columns (total 1 columns):\n",
      " #   Column  Dtype         \n",
      "---  ------  -----         \n",
      " 0   Date    datetime64[ns]\n",
      "dtypes: datetime64[ns](1)\n",
      "memory usage: 41.8 MB\n"
     ]
    }
   ],
   "source": [
    "# syntax exploration for datetime\n",
    "x = pd.DataFrame(pd.to_datetime(df['Date']))\n",
    "x.info()"
   ]
  },
  {
   "cell_type": "code",
   "execution_count": 7,
   "id": "394af4e6",
   "metadata": {},
   "outputs": [
    {
     "data": {
      "text/html": [
       "<div>\n",
       "<style scoped>\n",
       "    .dataframe tbody tr th:only-of-type {\n",
       "        vertical-align: middle;\n",
       "    }\n",
       "\n",
       "    .dataframe tbody tr th {\n",
       "        vertical-align: top;\n",
       "    }\n",
       "\n",
       "    .dataframe thead th {\n",
       "        text-align: right;\n",
       "    }\n",
       "</style>\n",
       "<table border=\"1\" class=\"dataframe\">\n",
       "  <thead>\n",
       "    <tr style=\"text-align: right;\">\n",
       "      <th></th>\n",
       "      <th>Date</th>\n",
       "    </tr>\n",
       "  </thead>\n",
       "  <tbody>\n",
       "    <tr>\n",
       "      <th>count</th>\n",
       "      <td>5484486</td>\n",
       "    </tr>\n",
       "    <tr>\n",
       "      <th>mean</th>\n",
       "      <td>2021-01-16 19:11:37.585881856</td>\n",
       "    </tr>\n",
       "    <tr>\n",
       "      <th>min</th>\n",
       "      <td>2020-12-01 00:00:00</td>\n",
       "    </tr>\n",
       "    <tr>\n",
       "      <th>25%</th>\n",
       "      <td>2020-12-26 00:00:00</td>\n",
       "    </tr>\n",
       "    <tr>\n",
       "      <th>50%</th>\n",
       "      <td>2021-01-19 00:00:00</td>\n",
       "    </tr>\n",
       "    <tr>\n",
       "      <th>75%</th>\n",
       "      <td>2021-02-08 00:00:00</td>\n",
       "    </tr>\n",
       "    <tr>\n",
       "      <th>max</th>\n",
       "      <td>2021-02-28 00:00:00</td>\n",
       "    </tr>\n",
       "  </tbody>\n",
       "</table>\n",
       "</div>"
      ],
      "text/plain": [
       "                                Date\n",
       "count                        5484486\n",
       "mean   2021-01-16 19:11:37.585881856\n",
       "min              2020-12-01 00:00:00\n",
       "25%              2020-12-26 00:00:00\n",
       "50%              2021-01-19 00:00:00\n",
       "75%              2021-02-08 00:00:00\n",
       "max              2021-02-28 00:00:00"
      ]
     },
     "execution_count": 7,
     "metadata": {},
     "output_type": "execute_result"
    }
   ],
   "source": [
    "# first date/last date of data\n",
    "x.describe(datetime_is_numeric=True)"
   ]
  },
  {
   "cell_type": "code",
   "execution_count": 8,
   "id": "2ee594f8",
   "metadata": {},
   "outputs": [
    {
     "data": {
      "text/html": [
       "<div>\n",
       "<style scoped>\n",
       "    .dataframe tbody tr th:only-of-type {\n",
       "        vertical-align: middle;\n",
       "    }\n",
       "\n",
       "    .dataframe tbody tr th {\n",
       "        vertical-align: top;\n",
       "    }\n",
       "\n",
       "    .dataframe thead th {\n",
       "        text-align: right;\n",
       "    }\n",
       "</style>\n",
       "<table border=\"1\" class=\"dataframe\">\n",
       "  <thead>\n",
       "    <tr style=\"text-align: right;\">\n",
       "      <th></th>\n",
       "      <th>Slot.ID</th>\n",
       "      <th>Creative.ID</th>\n",
       "      <th>Publisher.Split</th>\n",
       "      <th>Impressions</th>\n",
       "      <th>Referrals</th>\n",
       "      <th>Conversions</th>\n",
       "    </tr>\n",
       "  </thead>\n",
       "  <tbody>\n",
       "    <tr>\n",
       "      <th>count</th>\n",
       "      <td>5.484486e+06</td>\n",
       "      <td>5.484486e+06</td>\n",
       "      <td>5.484486e+06</td>\n",
       "      <td>5.484486e+06</td>\n",
       "      <td>5.484486e+06</td>\n",
       "      <td>5.484486e+06</td>\n",
       "    </tr>\n",
       "    <tr>\n",
       "      <th>mean</th>\n",
       "      <td>1.345321e+03</td>\n",
       "      <td>4.695359e+01</td>\n",
       "      <td>7.263170e-02</td>\n",
       "      <td>8.072069e+01</td>\n",
       "      <td>1.073873e+00</td>\n",
       "      <td>3.063186e-03</td>\n",
       "    </tr>\n",
       "    <tr>\n",
       "      <th>std</th>\n",
       "      <td>1.043223e+03</td>\n",
       "      <td>2.446303e+01</td>\n",
       "      <td>1.307282e+00</td>\n",
       "      <td>8.739152e+02</td>\n",
       "      <td>1.989020e+01</td>\n",
       "      <td>8.151255e-02</td>\n",
       "    </tr>\n",
       "    <tr>\n",
       "      <th>min</th>\n",
       "      <td>1.000000e+00</td>\n",
       "      <td>1.000000e+00</td>\n",
       "      <td>0.000000e+00</td>\n",
       "      <td>0.000000e+00</td>\n",
       "      <td>0.000000e+00</td>\n",
       "      <td>0.000000e+00</td>\n",
       "    </tr>\n",
       "    <tr>\n",
       "      <th>25%</th>\n",
       "      <td>5.150000e+02</td>\n",
       "      <td>2.100000e+01</td>\n",
       "      <td>0.000000e+00</td>\n",
       "      <td>1.000000e+00</td>\n",
       "      <td>0.000000e+00</td>\n",
       "      <td>0.000000e+00</td>\n",
       "    </tr>\n",
       "    <tr>\n",
       "      <th>50%</th>\n",
       "      <td>1.089000e+03</td>\n",
       "      <td>4.800000e+01</td>\n",
       "      <td>0.000000e+00</td>\n",
       "      <td>4.000000e+00</td>\n",
       "      <td>0.000000e+00</td>\n",
       "      <td>0.000000e+00</td>\n",
       "    </tr>\n",
       "    <tr>\n",
       "      <th>75%</th>\n",
       "      <td>1.881000e+03</td>\n",
       "      <td>7.000000e+01</td>\n",
       "      <td>1.000000e-02</td>\n",
       "      <td>2.000000e+01</td>\n",
       "      <td>0.000000e+00</td>\n",
       "      <td>0.000000e+00</td>\n",
       "    </tr>\n",
       "    <tr>\n",
       "      <th>max</th>\n",
       "      <td>4.185000e+03</td>\n",
       "      <td>8.700000e+01</td>\n",
       "      <td>3.616600e+02</td>\n",
       "      <td>2.286710e+05</td>\n",
       "      <td>6.514000e+03</td>\n",
       "      <td>2.100000e+01</td>\n",
       "    </tr>\n",
       "  </tbody>\n",
       "</table>\n",
       "</div>"
      ],
      "text/plain": [
       "            Slot.ID   Creative.ID  Publisher.Split   Impressions  \\\n",
       "count  5.484486e+06  5.484486e+06     5.484486e+06  5.484486e+06   \n",
       "mean   1.345321e+03  4.695359e+01     7.263170e-02  8.072069e+01   \n",
       "std    1.043223e+03  2.446303e+01     1.307282e+00  8.739152e+02   \n",
       "min    1.000000e+00  1.000000e+00     0.000000e+00  0.000000e+00   \n",
       "25%    5.150000e+02  2.100000e+01     0.000000e+00  1.000000e+00   \n",
       "50%    1.089000e+03  4.800000e+01     0.000000e+00  4.000000e+00   \n",
       "75%    1.881000e+03  7.000000e+01     1.000000e-02  2.000000e+01   \n",
       "max    4.185000e+03  8.700000e+01     3.616600e+02  2.286710e+05   \n",
       "\n",
       "          Referrals   Conversions  \n",
       "count  5.484486e+06  5.484486e+06  \n",
       "mean   1.073873e+00  3.063186e-03  \n",
       "std    1.989020e+01  8.151255e-02  \n",
       "min    0.000000e+00  0.000000e+00  \n",
       "25%    0.000000e+00  0.000000e+00  \n",
       "50%    0.000000e+00  0.000000e+00  \n",
       "75%    0.000000e+00  0.000000e+00  \n",
       "max    6.514000e+03  2.100000e+01  "
      ]
     },
     "execution_count": 8,
     "metadata": {},
     "output_type": "execute_result"
    }
   ],
   "source": [
    "df.describe()"
   ]
  },
  {
   "cell_type": "code",
   "execution_count": 12,
   "id": "e1ccfd57",
   "metadata": {},
   "outputs": [
    {
     "data": {
      "text/plain": [
       "<AxesSubplot:>"
      ]
     },
     "execution_count": 12,
     "metadata": {},
     "output_type": "execute_result"
    },
    {
     "data": {
      "image/png": "[encoded data removed]",
      "text/plain": [
       "<Figure size 432x288 with 1 Axes>"
      ]
     },
     "metadata": {
      "needs_background": "light"
     },
     "output_type": "display_data"
    }
   ],
   "source": [
    "# impressions histogram\n",
    "df.Impressions.hist(bins=150)"
   ]
  },
  {
   "cell_type": "code",
   "execution_count": 13,
   "id": "d1b9411a",
   "metadata": {},
   "outputs": [
    {
     "data": {
      "text/plain": [
       "<AxesSubplot:>"
      ]
     },
     "execution_count": 13,
     "metadata": {},
     "output_type": "execute_result"
    },
    {
     "data": {
      "image/png": "[encoded data removed]",
      "text/plain": [
       "<Figure size 432x288 with 1 Axes>"
      ]
     },
     "metadata": {
      "needs_background": "light"
     },
     "output_type": "display_data"
    }
   ],
   "source": [
    "df.Referrals.hist(bins=150)"
   ]
  },
  {
   "cell_type": "code",
   "execution_count": 14,
   "id": "371a0f55",
   "metadata": {},
   "outputs": [
    {
     "data": {
      "text/plain": [
       "<AxesSubplot:>"
      ]
     },
     "execution_count": 14,
     "metadata": {},
     "output_type": "execute_result"
    },
    {
     "data": {
      "image/png": "[encoded data removed]",
      "text/plain": [
       "<Figure size 432x288 with 1 Axes>"
      ]
     },
     "metadata": {
      "needs_background": "light"
     },
     "output_type": "display_data"
    }
   ],
   "source": [
    "df.Conversions.hist(bins=150)"
   ]
  },
  {
   "cell_type": "code",
   "execution_count": null,
   "id": "c297df6e",
   "metadata": {},
   "outputs": [],
   "source": []
  }
 ],
 "metadata": {
  "kernelspec": {
   "display_name": "Python 3 (ipykernel)",
   "language": "python",
   "name": "python3"
  },
  "language_info": {
   "codemirror_mode": {
    "name": "ipython",
    "version": 3
   },
   "file_extension": ".py",
   "mimetype": "text/x-python",
   "name": "python",
   "nbconvert_exporter": "python",
   "pygments_lexer": "ipython3",
   "version": "3.9.7"
  }
 },
 "nbformat": 4,
 "nbformat_minor": 5
}
