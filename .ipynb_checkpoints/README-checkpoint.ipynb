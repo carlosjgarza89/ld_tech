{
 "cells": [
  {
   "cell_type": "markdown",
   "id": "e2240fd5",
   "metadata": {},
   "source": [
    "![header](images/lockerdome_header.jpeg)"
   ]
  },
  {
   "cell_type": "markdown",
   "id": "bb9717b3",
   "metadata": {},
   "source": [
    "# Lockerdome Technical Assessment\n",
    "Full Analysis: [master notebook](master_notebook.ipynb)"
   ]
  },
  {
   "cell_type": "markdown",
   "id": "b6b4d35f",
   "metadata": {},
   "source": [
    "## Overview\n",
    "This project details the exploration and analysis of data from a single advertiser between the dates 12/01/2020 and 02/28/2021.\n",
    "\n",
    "The purpose of this project is to analyze historical campaign data and return intuitive tables and graphics that allow an audience to analyze the data by eye, as well as provide concrete optimization recommendations.\n",
    "\n",
    "**Important Note: The source data is too large to upload to GitHub. If this project is to be cloned, the data must be added to the data folder of this repo before the master_notebook can be run successfully.**\n",
    "\n",
    "*For the reader's convenience, the project_data.csv can be downloaded [here](https://drive.google.com/file/d/1l1EGxzQStWMLEnsm8uOU41vteFdkXWhA/view?usp=sharing).*"
   ]
  },
  {
   "cell_type": "markdown",
   "id": "7d941677",
   "metadata": {},
   "source": [
    "## Project Goals\n",
    "Through the lens of optimizing for LockerDome:\n",
    "- Using raw historical campaign data, make concrete optimization recommendations for Creative.ID, Slot.ID, and Device variables.\n",
    "- Deliver results as tables and graphics that illustrate results\n",
    "- Detail any additional observations"
   ]
  },
  {
   "cell_type": "markdown",
   "id": "e1cd7f5c",
   "metadata": {},
   "source": [
    "## Metric\n",
    "The main metric in this analysis will be **Net Revenue** (Gross - Publisher Split)"
   ]
  },
  {
   "cell_type": "markdown",
   "id": "7e9279bb",
   "metadata": {},
   "source": [
    "## Data\n",
    "The data utilized for this project consisted of roughly 5.5M data points.\n",
    "\n",
    "A summary of the data columns is shown below.\n",
    "\n",
    "![Summary of Raw Data](images/data_columns.png)"
   ]
  },
  {
   "cell_type": "markdown",
   "id": "fe4fd2fd",
   "metadata": {},
   "source": [
    "## Methods\n",
    "#### DataType Correction/Feature Creation\n",
    "- To begin, the ```Date``` column was converted from an object datatype to a datetime datatype. This allowed that column to be used in a lambda function that populated a new column ```conversion_value```, which was dependent on the date.\n",
    "- With the conversion value calculated, new columns for ```gross_revenue``` and ```net_revenue``` could be calculated.\n",
    "#### Dealing With Missing Values\n",
    "- A tiny percentage of the raw data was missing values in the ```Placement``` or ```Ad.Slot.Page.Layout``` columns. The rows with missing data were dropped from the analysis.\n",
    "#### Check for Outliers\n",
    "-Scatterplots of ```net-revenue``` vs ```Creative.ID```, ```Slot.ID```, and ```Device``` were used to visually inspect the data for outliers. No data points were obvious outliers so for the purpose of this analysis no data was dropped at this stage. The scatterplots can be viewed below.\n",
    "![creative_scatter](images/creative_scatter.png)\n",
    "![slot_scatter](images/slot_scatter.png)\n",
    "![device_scatter](images/device_scatter.png)\n",
    "#### Pivot Tables\n",
    "- To make insights possible to the human eye, data was aggregated into pivot tables.\n",
    "- The table displayed below shows the sum of all Net Revenue aggregated by device for each Creative ID.\n",
    "- A heatmap was used to make the pivot table more intuitive to any audience.\n",
    "![pivot_table](images/all_slot_pivot.png)\n",
    "![net_revenue_heat_map](images/net_revenue_heatmap.png)\n",
    "#### Deployment\n",
    "- To make the above pivot table usable for insight on a per-Slot.ID basis, a function was written that filters the dataframe by a user defined Slot.ID and returns a pivot table and heatmap of the same format as the one above, but specifically tailored to the Slot.ID being investigated.\n",
    "- For ease of use outside of the working notebook, the function was rewritten as a python script that can be run from the terminal. The script prompts the user to input a Slot ID and creates a heatmap that represents Net Revenue for that specific slot."
   ]
  },
  {
   "cell_type": "markdown",
   "id": "05958f83",
   "metadata": {},
   "source": [
    "## Results\n",
    "In the image below, the left window shows the python script being called and prompting the user to select a Slot ID to analyze. The right screen shows the resulting heatmap generated. \n",
    "![deployment](images/deployment.png)"
   ]
  },
  {
   "cell_type": "markdown",
   "id": "de57c189",
   "metadata": {},
   "source": [
    "## Conclusions\n",
    "- Data collected on this campaign can be pivoted into useful and readable summary tables and heat maps that enable any audience to visually audit the campaign's performance.\n",
    "- When the entire dataset is aggregated and analyzed across all Slot.IDs, Creative IDs perform significantly differently when presented on different devices.\n",
    "- If data is filtered by Sort.ID prior to pivot table and heat map creation, top performing ad content can be curiated for each slot and for each device.\n",
    "- The top performing Creative ID across all slots are 72, 35, and 35 when viewed on Desktop, Mobile, and Tablet respectively."
   ]
  },
  {
   "cell_type": "markdown",
   "id": "c94d595d",
   "metadata": {},
   "source": [
    "## Recommendations\n",
    "- Use heatmap function to curate ad content for each slot ID.\n",
    "- Use master heatmap created above to analyze the performance of existing ad content and explore if the ad requires updating or modification to better match the performance of higher ranked creative content.\n",
    "- Consider retiring lowest performing content and increasing the spread of more successful content."
   ]
  },
  {
   "cell_type": "markdown",
   "id": "941d3684",
   "metadata": {},
   "source": [
    "## Future Work\n",
    "- Explore why some values were missing from initial dataset\n",
    "- Explore if data aggregation is being skewed by initial post date\n",
    "- Modify pivot table functions to reflect user defined dates or a range of dates\n",
    "- Expand python script to take user input for the date being analyzed\n",
    "- Expand python script to create heatmap for all Slot.IDs or a selection of Slot.IDs if prompted.\n",
    "- Extrapolate the data to predict future performance with Machine Learning"
   ]
  },
  {
   "cell_type": "markdown",
   "id": "7fbeaffd",
   "metadata": {},
   "source": [
    "## For More Information\n",
    "For more detailed information, please review my full analysis in [my Jupyter Notebook](master_notebook.ipynb).\n",
    "\n",
    "For any additional questions, please contact me by email: **carlosjgarza89@gmail.com**"
   ]
  }
 ],
 "metadata": {
  "kernelspec": {
   "display_name": "Python 3 (ipykernel)",
   "language": "python",
   "name": "python3"
  },
  "language_info": {
   "codemirror_mode": {
    "name": "ipython",
    "version": 3
   },
   "file_extension": ".py",
   "mimetype": "text/x-python",
   "name": "python",
   "nbconvert_exporter": "python",
   "pygments_lexer": "ipython3",
   "version": "3.9.7"
  }
 },
 "nbformat": 4,
 "nbformat_minor": 5
}
