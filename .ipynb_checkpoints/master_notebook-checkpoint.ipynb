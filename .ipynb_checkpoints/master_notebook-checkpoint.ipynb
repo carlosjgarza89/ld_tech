{
 "cells": [
  {
   "cell_type": "markdown",
   "metadata": {},
   "source": [
    "# LockerDome Technical Assessment"
   ]
  },
  {
   "cell_type": "markdown",
   "metadata": {},
   "source": [
    "## Overview\n",
    "This Notebook details the exploration and analysis of data from a single advertiser between the dates 12/01/2020 and 02/28/2021."
   ]
  },
  {
   "cell_type": "markdown",
   "metadata": {},
   "source": [
    "## Project Goals\n",
    "Through the lens of optimizing for LockerDome:\n",
    "- Using raw historical campaign data, make concrete optimization recommendations for Creative.ID, Slot.ID, and Device variables.\n",
    "- Deliver results as tables and graphics that illustrate results\n",
    "- Detail any additional observations"
   ]
  },
  {
   "cell_type": "markdown",
   "metadata": {},
   "source": [
    "## Metrics\n",
    "The main metric in this analysis will be **Net Revenue** (Gross - Publisher Split)\n",
    "\n",
    "Secondary metrics that may be explored are **Impressions** and **Referrals** as they can eventually lead to more conversions. "
   ]
  },
  {
   "cell_type": "markdown",
   "metadata": {},
   "source": [
    "## Data\n",
    "The data used in this analysis describes a single advertiser's campaigns.\n",
    "The data is imported and previewed below."
   ]
  },
  {
   "cell_type": "code",
   "execution_count": 1,
   "metadata": {},
   "outputs": [],
   "source": [
    "# Import Key DataFrame Libraries\n",
    "import pandas as pd\n",
    "import numpy as np"
   ]
  },
  {
   "cell_type": "code",
   "execution_count": 2,
   "metadata": {},
   "outputs": [
    {
     "data": {
      "text/html": [
       "<div>\n",
       "<style scoped>\n",
       "    .dataframe tbody tr th:only-of-type {\n",
       "        vertical-align: middle;\n",
       "    }\n",
       "\n",
       "    .dataframe tbody tr th {\n",
       "        vertical-align: top;\n",
       "    }\n",
       "\n",
       "    .dataframe thead th {\n",
       "        text-align: right;\n",
       "    }\n",
       "</style>\n",
       "<table border=\"1\" class=\"dataframe\">\n",
       "  <thead>\n",
       "    <tr style=\"text-align: right;\">\n",
       "      <th></th>\n",
       "      <th>Slot.ID</th>\n",
       "      <th>Placement</th>\n",
       "      <th>Ad.Slot.Page.Layout</th>\n",
       "      <th>Creative.ID</th>\n",
       "      <th>Content.Type</th>\n",
       "      <th>Content.Has.Play.Button</th>\n",
       "      <th>Date</th>\n",
       "      <th>Device</th>\n",
       "      <th>Size</th>\n",
       "      <th>Publisher.Split</th>\n",
       "      <th>Impressions</th>\n",
       "      <th>Referrals</th>\n",
       "      <th>Conversions</th>\n",
       "    </tr>\n",
       "  </thead>\n",
       "  <tbody>\n",
       "    <tr>\n",
       "      <th>0</th>\n",
       "      <td>1</td>\n",
       "      <td>NaN</td>\n",
       "      <td>NaN</td>\n",
       "      <td>1</td>\n",
       "      <td>advertorial</td>\n",
       "      <td>yes</td>\n",
       "      <td>12/01/2020</td>\n",
       "      <td>Other</td>\n",
       "      <td>Unknown</td>\n",
       "      <td>0.00</td>\n",
       "      <td>0</td>\n",
       "      <td>0</td>\n",
       "      <td>0</td>\n",
       "    </tr>\n",
       "    <tr>\n",
       "      <th>1</th>\n",
       "      <td>2</td>\n",
       "      <td>external_in_content</td>\n",
       "      <td>full_article</td>\n",
       "      <td>1</td>\n",
       "      <td>advertorial</td>\n",
       "      <td>yes</td>\n",
       "      <td>12/01/2020</td>\n",
       "      <td>Mobile</td>\n",
       "      <td>Responsive</td>\n",
       "      <td>0.02</td>\n",
       "      <td>10</td>\n",
       "      <td>0</td>\n",
       "      <td>0</td>\n",
       "    </tr>\n",
       "    <tr>\n",
       "      <th>2</th>\n",
       "      <td>3</td>\n",
       "      <td>external_above_content</td>\n",
       "      <td>full_article</td>\n",
       "      <td>1</td>\n",
       "      <td>advertorial</td>\n",
       "      <td>yes</td>\n",
       "      <td>12/01/2020</td>\n",
       "      <td>Mobile</td>\n",
       "      <td>Responsive</td>\n",
       "      <td>0.32</td>\n",
       "      <td>94</td>\n",
       "      <td>0</td>\n",
       "      <td>0</td>\n",
       "    </tr>\n",
       "    <tr>\n",
       "      <th>3</th>\n",
       "      <td>4</td>\n",
       "      <td>external_below_content</td>\n",
       "      <td>full_article</td>\n",
       "      <td>1</td>\n",
       "      <td>advertorial</td>\n",
       "      <td>yes</td>\n",
       "      <td>12/01/2020</td>\n",
       "      <td>Mobile</td>\n",
       "      <td>Responsive</td>\n",
       "      <td>0.00</td>\n",
       "      <td>54</td>\n",
       "      <td>0</td>\n",
       "      <td>0</td>\n",
       "    </tr>\n",
       "    <tr>\n",
       "      <th>4</th>\n",
       "      <td>5</td>\n",
       "      <td>external_below_content</td>\n",
       "      <td>full_article</td>\n",
       "      <td>1</td>\n",
       "      <td>advertorial</td>\n",
       "      <td>yes</td>\n",
       "      <td>12/01/2020</td>\n",
       "      <td>Mobile</td>\n",
       "      <td>Responsive</td>\n",
       "      <td>0.03</td>\n",
       "      <td>21</td>\n",
       "      <td>1</td>\n",
       "      <td>0</td>\n",
       "    </tr>\n",
       "  </tbody>\n",
       "</table>\n",
       "</div>"
      ],
      "text/plain": [
       "   Slot.ID               Placement Ad.Slot.Page.Layout  Creative.ID  \\\n",
       "0        1                     NaN                 NaN            1   \n",
       "1        2     external_in_content        full_article            1   \n",
       "2        3  external_above_content        full_article            1   \n",
       "3        4  external_below_content        full_article            1   \n",
       "4        5  external_below_content        full_article            1   \n",
       "\n",
       "  Content.Type Content.Has.Play.Button        Date  Device        Size  \\\n",
       "0  advertorial                     yes  12/01/2020   Other     Unknown   \n",
       "1  advertorial                     yes  12/01/2020  Mobile  Responsive   \n",
       "2  advertorial                     yes  12/01/2020  Mobile  Responsive   \n",
       "3  advertorial                     yes  12/01/2020  Mobile  Responsive   \n",
       "4  advertorial                     yes  12/01/2020  Mobile  Responsive   \n",
       "\n",
       "   Publisher.Split  Impressions  Referrals  Conversions  \n",
       "0             0.00            0          0            0  \n",
       "1             0.02           10          0            0  \n",
       "2             0.32           94          0            0  \n",
       "3             0.00           54          0            0  \n",
       "4             0.03           21          1            0  "
      ]
     },
     "execution_count": 2,
     "metadata": {},
     "output_type": "execute_result"
    }
   ],
   "source": [
    "#Import and Preview Data\n",
    "df = pd.read_csv('data/project_data.csv')\n",
    "df.head()"
   ]
  },
  {
   "cell_type": "code",
   "execution_count": 3,
   "metadata": {},
   "outputs": [
    {
     "name": "stdout",
     "output_type": "stream",
     "text": [
      "<class 'pandas.core.frame.DataFrame'>\n",
      "RangeIndex: 5484486 entries, 0 to 5484485\n",
      "Data columns (total 13 columns):\n",
      " #   Column                   Dtype  \n",
      "---  ------                   -----  \n",
      " 0   Slot.ID                  int64  \n",
      " 1   Placement                object \n",
      " 2   Ad.Slot.Page.Layout      object \n",
      " 3   Creative.ID              int64  \n",
      " 4   Content.Type             object \n",
      " 5   Content.Has.Play.Button  object \n",
      " 6   Date                     object \n",
      " 7   Device                   object \n",
      " 8   Size                     object \n",
      " 9   Publisher.Split          float64\n",
      " 10  Impressions              int64  \n",
      " 11  Referrals                int64  \n",
      " 12  Conversions              int64  \n",
      "dtypes: float64(1), int64(5), object(7)\n",
      "memory usage: 544.0+ MB\n"
     ]
    }
   ],
   "source": [
    "# Inspect Column Datatypes\n",
    "df.info()"
   ]
  },
  {
   "cell_type": "code",
   "execution_count": 4,
   "metadata": {},
   "outputs": [
    {
     "data": {
      "text/plain": [
       "Slot.ID                        0\n",
       "Placement                  12326\n",
       "Ad.Slot.Page.Layout        12330\n",
       "Creative.ID                    0\n",
       "Content.Type                   0\n",
       "Content.Has.Play.Button        0\n",
       "Date                           0\n",
       "Device                         0\n",
       "Size                           0\n",
       "Publisher.Split                0\n",
       "Impressions                    0\n",
       "Referrals                      0\n",
       "Conversions                    0\n",
       "dtype: int64"
      ]
     },
     "execution_count": 4,
     "metadata": {},
     "output_type": "execute_result"
    }
   ],
   "source": [
    "# Inspect Missing Values\n",
    "df.isna().sum()"
   ]
  },
  {
   "cell_type": "markdown",
   "metadata": {},
   "source": [
    "### Feature Creation/DataType Correction\n",
    "Through 1/7, conversion value is assumed to be \\\\$35.00. All dates following, the conversion value is assumed to be \\\\$40.00. This information can be used to calculate gross and net revenue.\n",
    "\n",
    "To help create these features efficiently, the Date column will be converted to the ```datetime64``` data type. Using a lambda function and the corrected Date column, a conversion_value column can be properly populated."
   ]
  },
  {
   "cell_type": "code",
   "execution_count": 5,
   "metadata": {},
   "outputs": [],
   "source": [
    "# Convert Date column from object to datetime\n",
    "df['Date'] = pd.to_datetime(df['Date'])"
   ]
  },
  {
   "cell_type": "code",
   "execution_count": 6,
   "metadata": {},
   "outputs": [],
   "source": [
    "# Create conversion value column\n",
    "value_change_date = pd.to_datetime('01/08/2021')\n",
    "df['conversion_value'] = df['Date'].map(lambda x: 35 if x < value_change_date else 40)"
   ]
  },
  {
   "cell_type": "code",
   "execution_count": 7,
   "metadata": {},
   "outputs": [],
   "source": [
    "# Gross revenue = conversions * conversion value\n",
    "df['gross_revenue'] = df['Conversions']*df['conversion_value']"
   ]
  },
  {
   "cell_type": "code",
   "execution_count": 8,
   "metadata": {},
   "outputs": [],
   "source": [
    "# Net revenue = Gross revenue - Publisher Split*Conversions\n",
    "df['net_revenue'] = df['gross_revenue'] - df['Publisher.Split']*df['Conversions']"
   ]
  },
  {
   "cell_type": "code",
   "execution_count": 9,
   "metadata": {},
   "outputs": [
    {
     "data": {
      "text/html": [
       "<div>\n",
       "<style scoped>\n",
       "    .dataframe tbody tr th:only-of-type {\n",
       "        vertical-align: middle;\n",
       "    }\n",
       "\n",
       "    .dataframe tbody tr th {\n",
       "        vertical-align: top;\n",
       "    }\n",
       "\n",
       "    .dataframe thead th {\n",
       "        text-align: right;\n",
       "    }\n",
       "</style>\n",
       "<table border=\"1\" class=\"dataframe\">\n",
       "  <thead>\n",
       "    <tr style=\"text-align: right;\">\n",
       "      <th></th>\n",
       "      <th>Slot.ID</th>\n",
       "      <th>Placement</th>\n",
       "      <th>Ad.Slot.Page.Layout</th>\n",
       "      <th>Creative.ID</th>\n",
       "      <th>Content.Type</th>\n",
       "      <th>Content.Has.Play.Button</th>\n",
       "      <th>Date</th>\n",
       "      <th>Device</th>\n",
       "      <th>Size</th>\n",
       "      <th>Publisher.Split</th>\n",
       "      <th>Impressions</th>\n",
       "      <th>Referrals</th>\n",
       "      <th>Conversions</th>\n",
       "      <th>conversion_value</th>\n",
       "      <th>gross_revenue</th>\n",
       "      <th>net_revenue</th>\n",
       "    </tr>\n",
       "  </thead>\n",
       "  <tbody>\n",
       "    <tr>\n",
       "      <th>0</th>\n",
       "      <td>1</td>\n",
       "      <td>NaN</td>\n",
       "      <td>NaN</td>\n",
       "      <td>1</td>\n",
       "      <td>advertorial</td>\n",
       "      <td>yes</td>\n",
       "      <td>2020-12-01</td>\n",
       "      <td>Other</td>\n",
       "      <td>Unknown</td>\n",
       "      <td>0.00</td>\n",
       "      <td>0</td>\n",
       "      <td>0</td>\n",
       "      <td>0</td>\n",
       "      <td>35</td>\n",
       "      <td>0</td>\n",
       "      <td>0.0</td>\n",
       "    </tr>\n",
       "    <tr>\n",
       "      <th>1</th>\n",
       "      <td>2</td>\n",
       "      <td>external_in_content</td>\n",
       "      <td>full_article</td>\n",
       "      <td>1</td>\n",
       "      <td>advertorial</td>\n",
       "      <td>yes</td>\n",
       "      <td>2020-12-01</td>\n",
       "      <td>Mobile</td>\n",
       "      <td>Responsive</td>\n",
       "      <td>0.02</td>\n",
       "      <td>10</td>\n",
       "      <td>0</td>\n",
       "      <td>0</td>\n",
       "      <td>35</td>\n",
       "      <td>0</td>\n",
       "      <td>0.0</td>\n",
       "    </tr>\n",
       "    <tr>\n",
       "      <th>2</th>\n",
       "      <td>3</td>\n",
       "      <td>external_above_content</td>\n",
       "      <td>full_article</td>\n",
       "      <td>1</td>\n",
       "      <td>advertorial</td>\n",
       "      <td>yes</td>\n",
       "      <td>2020-12-01</td>\n",
       "      <td>Mobile</td>\n",
       "      <td>Responsive</td>\n",
       "      <td>0.32</td>\n",
       "      <td>94</td>\n",
       "      <td>0</td>\n",
       "      <td>0</td>\n",
       "      <td>35</td>\n",
       "      <td>0</td>\n",
       "      <td>0.0</td>\n",
       "    </tr>\n",
       "    <tr>\n",
       "      <th>3</th>\n",
       "      <td>4</td>\n",
       "      <td>external_below_content</td>\n",
       "      <td>full_article</td>\n",
       "      <td>1</td>\n",
       "      <td>advertorial</td>\n",
       "      <td>yes</td>\n",
       "      <td>2020-12-01</td>\n",
       "      <td>Mobile</td>\n",
       "      <td>Responsive</td>\n",
       "      <td>0.00</td>\n",
       "      <td>54</td>\n",
       "      <td>0</td>\n",
       "      <td>0</td>\n",
       "      <td>35</td>\n",
       "      <td>0</td>\n",
       "      <td>0.0</td>\n",
       "    </tr>\n",
       "    <tr>\n",
       "      <th>4</th>\n",
       "      <td>5</td>\n",
       "      <td>external_below_content</td>\n",
       "      <td>full_article</td>\n",
       "      <td>1</td>\n",
       "      <td>advertorial</td>\n",
       "      <td>yes</td>\n",
       "      <td>2020-12-01</td>\n",
       "      <td>Mobile</td>\n",
       "      <td>Responsive</td>\n",
       "      <td>0.03</td>\n",
       "      <td>21</td>\n",
       "      <td>1</td>\n",
       "      <td>0</td>\n",
       "      <td>35</td>\n",
       "      <td>0</td>\n",
       "      <td>0.0</td>\n",
       "    </tr>\n",
       "  </tbody>\n",
       "</table>\n",
       "</div>"
      ],
      "text/plain": [
       "   Slot.ID               Placement Ad.Slot.Page.Layout  Creative.ID  \\\n",
       "0        1                     NaN                 NaN            1   \n",
       "1        2     external_in_content        full_article            1   \n",
       "2        3  external_above_content        full_article            1   \n",
       "3        4  external_below_content        full_article            1   \n",
       "4        5  external_below_content        full_article            1   \n",
       "\n",
       "  Content.Type Content.Has.Play.Button       Date  Device        Size  \\\n",
       "0  advertorial                     yes 2020-12-01   Other     Unknown   \n",
       "1  advertorial                     yes 2020-12-01  Mobile  Responsive   \n",
       "2  advertorial                     yes 2020-12-01  Mobile  Responsive   \n",
       "3  advertorial                     yes 2020-12-01  Mobile  Responsive   \n",
       "4  advertorial                     yes 2020-12-01  Mobile  Responsive   \n",
       "\n",
       "   Publisher.Split  Impressions  Referrals  Conversions  conversion_value  \\\n",
       "0             0.00            0          0            0                35   \n",
       "1             0.02           10          0            0                35   \n",
       "2             0.32           94          0            0                35   \n",
       "3             0.00           54          0            0                35   \n",
       "4             0.03           21          1            0                35   \n",
       "\n",
       "   gross_revenue  net_revenue  \n",
       "0              0          0.0  \n",
       "1              0          0.0  \n",
       "2              0          0.0  \n",
       "3              0          0.0  \n",
       "4              0          0.0  "
      ]
     },
     "execution_count": 9,
     "metadata": {},
     "output_type": "execute_result"
    }
   ],
   "source": [
    "#Preview Current DataFrame\n",
    "df.head()"
   ]
  },
  {
   "cell_type": "markdown",
   "metadata": {},
   "source": [
    "### Dealing with Missing Values\n",
    "A small percentage of the values (roughly 0.22%) in columns ```Placement``` and ```Ad.Slot.Page.Layout``` are missing. Upon inspection, none of the rows with missing data produced any profit, leading to the assumption that more data in those rows may be misleading.\n",
    "\n",
    "For the purpose of this analysis, rows with missing columns will be removed."
   ]
  },
  {
   "cell_type": "code",
   "execution_count": 10,
   "metadata": {},
   "outputs": [
    {
     "data": {
      "text/plain": [
       "0.0"
      ]
     },
     "execution_count": 10,
     "metadata": {},
     "output_type": "execute_result"
    }
   ],
   "source": [
    "# checking if rows with missing Placement values produce any revenue\n",
    "df[df['Placement'].isna()]['net_revenue'].sum()"
   ]
  },
  {
   "cell_type": "code",
   "execution_count": 11,
   "metadata": {},
   "outputs": [
    {
     "data": {
      "text/plain": [
       "0.0"
      ]
     },
     "execution_count": 11,
     "metadata": {},
     "output_type": "execute_result"
    }
   ],
   "source": [
    "# Checking if rows with missing Ad.Slot.Page.Layout produce any revenue\n",
    "df[df['Ad.Slot.Page.Layout'].isna()]['net_revenue'].sum()"
   ]
  },
  {
   "cell_type": "code",
   "execution_count": 12,
   "metadata": {},
   "outputs": [],
   "source": [
    "# Drop Missing Data and Reset Index\n",
    "df.dropna(inplace=True)\n",
    "df.reset_index(inplace=True, drop=True)"
   ]
  },
  {
   "cell_type": "code",
   "execution_count": 13,
   "metadata": {},
   "outputs": [
    {
     "data": {
      "text/html": [
       "<div>\n",
       "<style scoped>\n",
       "    .dataframe tbody tr th:only-of-type {\n",
       "        vertical-align: middle;\n",
       "    }\n",
       "\n",
       "    .dataframe tbody tr th {\n",
       "        vertical-align: top;\n",
       "    }\n",
       "\n",
       "    .dataframe thead th {\n",
       "        text-align: right;\n",
       "    }\n",
       "</style>\n",
       "<table border=\"1\" class=\"dataframe\">\n",
       "  <thead>\n",
       "    <tr style=\"text-align: right;\">\n",
       "      <th></th>\n",
       "      <th>Slot.ID</th>\n",
       "      <th>Placement</th>\n",
       "      <th>Ad.Slot.Page.Layout</th>\n",
       "      <th>Creative.ID</th>\n",
       "      <th>Content.Type</th>\n",
       "      <th>Content.Has.Play.Button</th>\n",
       "      <th>Date</th>\n",
       "      <th>Device</th>\n",
       "      <th>Size</th>\n",
       "      <th>Publisher.Split</th>\n",
       "      <th>Impressions</th>\n",
       "      <th>Referrals</th>\n",
       "      <th>Conversions</th>\n",
       "      <th>conversion_value</th>\n",
       "      <th>gross_revenue</th>\n",
       "      <th>net_revenue</th>\n",
       "    </tr>\n",
       "  </thead>\n",
       "  <tbody>\n",
       "    <tr>\n",
       "      <th>0</th>\n",
       "      <td>2</td>\n",
       "      <td>external_in_content</td>\n",
       "      <td>full_article</td>\n",
       "      <td>1</td>\n",
       "      <td>advertorial</td>\n",
       "      <td>yes</td>\n",
       "      <td>2020-12-01</td>\n",
       "      <td>Mobile</td>\n",
       "      <td>Responsive</td>\n",
       "      <td>0.02</td>\n",
       "      <td>10</td>\n",
       "      <td>0</td>\n",
       "      <td>0</td>\n",
       "      <td>35</td>\n",
       "      <td>0</td>\n",
       "      <td>0.00</td>\n",
       "    </tr>\n",
       "    <tr>\n",
       "      <th>1</th>\n",
       "      <td>3</td>\n",
       "      <td>external_above_content</td>\n",
       "      <td>full_article</td>\n",
       "      <td>1</td>\n",
       "      <td>advertorial</td>\n",
       "      <td>yes</td>\n",
       "      <td>2020-12-01</td>\n",
       "      <td>Mobile</td>\n",
       "      <td>Responsive</td>\n",
       "      <td>0.32</td>\n",
       "      <td>94</td>\n",
       "      <td>0</td>\n",
       "      <td>0</td>\n",
       "      <td>35</td>\n",
       "      <td>0</td>\n",
       "      <td>0.00</td>\n",
       "    </tr>\n",
       "    <tr>\n",
       "      <th>2</th>\n",
       "      <td>4</td>\n",
       "      <td>external_below_content</td>\n",
       "      <td>full_article</td>\n",
       "      <td>1</td>\n",
       "      <td>advertorial</td>\n",
       "      <td>yes</td>\n",
       "      <td>2020-12-01</td>\n",
       "      <td>Mobile</td>\n",
       "      <td>Responsive</td>\n",
       "      <td>0.00</td>\n",
       "      <td>54</td>\n",
       "      <td>0</td>\n",
       "      <td>0</td>\n",
       "      <td>35</td>\n",
       "      <td>0</td>\n",
       "      <td>0.00</td>\n",
       "    </tr>\n",
       "    <tr>\n",
       "      <th>3</th>\n",
       "      <td>5</td>\n",
       "      <td>external_below_content</td>\n",
       "      <td>full_article</td>\n",
       "      <td>1</td>\n",
       "      <td>advertorial</td>\n",
       "      <td>yes</td>\n",
       "      <td>2020-12-01</td>\n",
       "      <td>Mobile</td>\n",
       "      <td>Responsive</td>\n",
       "      <td>0.03</td>\n",
       "      <td>21</td>\n",
       "      <td>1</td>\n",
       "      <td>0</td>\n",
       "      <td>35</td>\n",
       "      <td>0</td>\n",
       "      <td>0.00</td>\n",
       "    </tr>\n",
       "    <tr>\n",
       "      <th>4</th>\n",
       "      <td>6</td>\n",
       "      <td>external_feed</td>\n",
       "      <td>homepage</td>\n",
       "      <td>1</td>\n",
       "      <td>advertorial</td>\n",
       "      <td>yes</td>\n",
       "      <td>2020-12-01</td>\n",
       "      <td>Mobile</td>\n",
       "      <td>Responsive</td>\n",
       "      <td>5.03</td>\n",
       "      <td>6368</td>\n",
       "      <td>395</td>\n",
       "      <td>2</td>\n",
       "      <td>35</td>\n",
       "      <td>70</td>\n",
       "      <td>59.94</td>\n",
       "    </tr>\n",
       "  </tbody>\n",
       "</table>\n",
       "</div>"
      ],
      "text/plain": [
       "   Slot.ID               Placement Ad.Slot.Page.Layout  Creative.ID  \\\n",
       "0        2     external_in_content        full_article            1   \n",
       "1        3  external_above_content        full_article            1   \n",
       "2        4  external_below_content        full_article            1   \n",
       "3        5  external_below_content        full_article            1   \n",
       "4        6           external_feed            homepage            1   \n",
       "\n",
       "  Content.Type Content.Has.Play.Button       Date  Device        Size  \\\n",
       "0  advertorial                     yes 2020-12-01  Mobile  Responsive   \n",
       "1  advertorial                     yes 2020-12-01  Mobile  Responsive   \n",
       "2  advertorial                     yes 2020-12-01  Mobile  Responsive   \n",
       "3  advertorial                     yes 2020-12-01  Mobile  Responsive   \n",
       "4  advertorial                     yes 2020-12-01  Mobile  Responsive   \n",
       "\n",
       "   Publisher.Split  Impressions  Referrals  Conversions  conversion_value  \\\n",
       "0             0.02           10          0            0                35   \n",
       "1             0.32           94          0            0                35   \n",
       "2             0.00           54          0            0                35   \n",
       "3             0.03           21          1            0                35   \n",
       "4             5.03         6368        395            2                35   \n",
       "\n",
       "   gross_revenue  net_revenue  \n",
       "0              0         0.00  \n",
       "1              0         0.00  \n",
       "2              0         0.00  \n",
       "3              0         0.00  \n",
       "4             70        59.94  "
      ]
     },
     "execution_count": 13,
     "metadata": {},
     "output_type": "execute_result"
    }
   ],
   "source": [
    "df.head()"
   ]
  },
  {
   "cell_type": "markdown",
   "metadata": {},
   "source": [
    "***Recap:*** At this point, the data is in the correct datatype, new features have been created (including our primary metric), and missing values have been dealt with."
   ]
  },
  {
   "cell_type": "markdown",
   "metadata": {},
   "source": [
    "## Exploratory Data Analysis"
   ]
  },
  {
   "cell_type": "code",
   "execution_count": null,
   "metadata": {},
   "outputs": [],
   "source": []
  },
  {
   "cell_type": "code",
   "execution_count": null,
   "metadata": {},
   "outputs": [],
   "source": []
  },
  {
   "cell_type": "code",
   "execution_count": null,
   "metadata": {},
   "outputs": [],
   "source": []
  },
  {
   "cell_type": "code",
   "execution_count": null,
   "metadata": {},
   "outputs": [],
   "source": []
  },
  {
   "cell_type": "markdown",
   "metadata": {},
   "source": [
    "### Data Preprocessing"
   ]
  },
  {
   "cell_type": "code",
   "execution_count": null,
   "metadata": {},
   "outputs": [],
   "source": []
  },
  {
   "cell_type": "code",
   "execution_count": null,
   "metadata": {},
   "outputs": [],
   "source": []
  },
  {
   "cell_type": "code",
   "execution_count": null,
   "metadata": {},
   "outputs": [],
   "source": []
  },
  {
   "cell_type": "code",
   "execution_count": null,
   "metadata": {},
   "outputs": [],
   "source": []
  },
  {
   "cell_type": "markdown",
   "metadata": {},
   "source": [
    "#### Train-Test Split"
   ]
  },
  {
   "cell_type": "code",
   "execution_count": null,
   "metadata": {},
   "outputs": [],
   "source": []
  },
  {
   "cell_type": "code",
   "execution_count": null,
   "metadata": {},
   "outputs": [],
   "source": []
  },
  {
   "cell_type": "code",
   "execution_count": null,
   "metadata": {},
   "outputs": [],
   "source": []
  },
  {
   "cell_type": "markdown",
   "metadata": {},
   "source": [
    "##### Standardization"
   ]
  },
  {
   "cell_type": "code",
   "execution_count": null,
   "metadata": {},
   "outputs": [],
   "source": []
  },
  {
   "cell_type": "code",
   "execution_count": null,
   "metadata": {},
   "outputs": [],
   "source": []
  },
  {
   "cell_type": "code",
   "execution_count": null,
   "metadata": {},
   "outputs": [],
   "source": []
  },
  {
   "cell_type": "markdown",
   "metadata": {},
   "source": [
    "## Baseline Models"
   ]
  },
  {
   "cell_type": "code",
   "execution_count": null,
   "metadata": {},
   "outputs": [],
   "source": []
  },
  {
   "cell_type": "code",
   "execution_count": null,
   "metadata": {},
   "outputs": [],
   "source": []
  },
  {
   "cell_type": "code",
   "execution_count": null,
   "metadata": {},
   "outputs": [],
   "source": []
  },
  {
   "cell_type": "markdown",
   "metadata": {},
   "source": [
    "### Model 1"
   ]
  },
  {
   "cell_type": "code",
   "execution_count": null,
   "metadata": {},
   "outputs": [],
   "source": []
  },
  {
   "cell_type": "code",
   "execution_count": null,
   "metadata": {},
   "outputs": [],
   "source": []
  },
  {
   "cell_type": "code",
   "execution_count": null,
   "metadata": {},
   "outputs": [],
   "source": []
  },
  {
   "cell_type": "markdown",
   "metadata": {},
   "source": [
    "### Model 2"
   ]
  },
  {
   "cell_type": "code",
   "execution_count": null,
   "metadata": {},
   "outputs": [],
   "source": []
  },
  {
   "cell_type": "code",
   "execution_count": null,
   "metadata": {},
   "outputs": [],
   "source": []
  },
  {
   "cell_type": "code",
   "execution_count": null,
   "metadata": {},
   "outputs": [],
   "source": []
  },
  {
   "cell_type": "markdown",
   "metadata": {},
   "source": [
    "### Model 3"
   ]
  },
  {
   "cell_type": "code",
   "execution_count": null,
   "metadata": {},
   "outputs": [],
   "source": []
  },
  {
   "cell_type": "code",
   "execution_count": null,
   "metadata": {},
   "outputs": [],
   "source": []
  },
  {
   "cell_type": "code",
   "execution_count": null,
   "metadata": {},
   "outputs": [],
   "source": []
  },
  {
   "cell_type": "markdown",
   "metadata": {},
   "source": [
    "## Model Tuning"
   ]
  },
  {
   "cell_type": "code",
   "execution_count": null,
   "metadata": {},
   "outputs": [],
   "source": []
  },
  {
   "cell_type": "code",
   "execution_count": null,
   "metadata": {},
   "outputs": [],
   "source": []
  },
  {
   "cell_type": "code",
   "execution_count": null,
   "metadata": {},
   "outputs": [],
   "source": []
  },
  {
   "cell_type": "markdown",
   "metadata": {},
   "source": [
    "## Model Evaluation"
   ]
  },
  {
   "cell_type": "code",
   "execution_count": null,
   "metadata": {},
   "outputs": [],
   "source": []
  },
  {
   "cell_type": "code",
   "execution_count": null,
   "metadata": {},
   "outputs": [],
   "source": []
  },
  {
   "cell_type": "code",
   "execution_count": null,
   "metadata": {},
   "outputs": [],
   "source": []
  },
  {
   "cell_type": "markdown",
   "metadata": {},
   "source": [
    "## Conclusions"
   ]
  },
  {
   "cell_type": "code",
   "execution_count": null,
   "metadata": {},
   "outputs": [],
   "source": []
  },
  {
   "cell_type": "code",
   "execution_count": null,
   "metadata": {},
   "outputs": [],
   "source": []
  },
  {
   "cell_type": "code",
   "execution_count": null,
   "metadata": {},
   "outputs": [],
   "source": []
  },
  {
   "cell_type": "markdown",
   "metadata": {},
   "source": [
    "## Deployment"
   ]
  },
  {
   "cell_type": "code",
   "execution_count": null,
   "metadata": {},
   "outputs": [],
   "source": []
  },
  {
   "cell_type": "code",
   "execution_count": null,
   "metadata": {},
   "outputs": [],
   "source": []
  },
  {
   "cell_type": "code",
   "execution_count": null,
   "metadata": {},
   "outputs": [],
   "source": []
  },
  {
   "cell_type": "markdown",
   "metadata": {},
   "source": [
    "## Future Work"
   ]
  },
  {
   "cell_type": "markdown",
   "metadata": {},
   "source": [
    "explore why some values were missing"
   ]
  },
  {
   "cell_type": "code",
   "execution_count": null,
   "metadata": {},
   "outputs": [],
   "source": []
  },
  {
   "cell_type": "code",
   "execution_count": null,
   "metadata": {},
   "outputs": [],
   "source": []
  },
  {
   "cell_type": "code",
   "execution_count": null,
   "metadata": {},
   "outputs": [],
   "source": []
  }
 ],
 "metadata": {
  "kernelspec": {
   "display_name": "Python 3 (ipykernel)",
   "language": "python",
   "name": "python3"
  },
  "language_info": {
   "codemirror_mode": {
    "name": "ipython",
    "version": 3
   },
   "file_extension": ".py",
   "mimetype": "text/x-python",
   "name": "python",
   "nbconvert_exporter": "python",
   "pygments_lexer": "ipython3",
   "version": "3.9.7"
  }
 },
 "nbformat": 4,
 "nbformat_minor": 4
}
